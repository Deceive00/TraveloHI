{
 "cells": [
  {
   "cell_type": "code",
   "execution_count": 5,
   "metadata": {},
   "outputs": [],
   "source": [
    "import sys\n",
    "# !{sys.executable} -m pip install numpy\n",
    "# !{sys.executable} -m pip install opencv-python\n",
    "# !{sys.executable} -m pip install tensorflow\n",
    "# !{sys.executable} -m pip install pandas\n",
    "# !{sys.executable} -m pip install sklearn\n",
    "import os\n",
    "import cv2\n",
    "import pandas as pd\n",
    "import tensorflow as tf\n",
    "import warnings\n",
    "from keras.models import Sequential\n",
    "from keras.layers import Dense, Conv2D , MaxPool2D , Flatten , Dropout , BatchNormalization\n",
    "from keras.preprocessing.image import ImageDataGenerator\n",
    "from sklearn.model_selection import train_test_split\n",
    "from sklearn.metrics import classification_report,confusion_matrix\n",
    "from keras.callbacks import ReduceLROnPlateau\n",
    "from tensorflow.keras import layers\n",
    "from tensorflow.keras.models import Model"
   ]
  },
  {
   "cell_type": "code",
   "execution_count": 3,
   "metadata": {},
   "outputs": [],
   "source": [
    "\n",
    "train_folder = './Dataset/train'\n",
    "test_folder = './Dataset/test'\n",
    "valid_folder = './Dataset/valid'\n",
    "\n",
    "# Function to preprocess the dataset\n",
    "def preprocess_dataset(folder_path):\n",
    "    warnings.filterwarnings(\"ignore\", category=UserWarning, module=\"cv2\")\n",
    "    images = []\n",
    "    label = []\n",
    "    csv_path = os.path.join(folder_path, '_classes.csv')\n",
    "    df = pd.read_csv(csv_path)\n",
    "\n",
    "    df.columns = df.columns.str.replace(' ', '')\n",
    "    for _, row in df.iterrows():\n",
    "        try:\n",
    "            filename = row['filename']\n",
    "            image_path = os.path.join(folder_path, filename)\n",
    "            image = cv2.imread(image_path)\n",
    "\n",
    "            image = cv2.resize(image, (224, 224))\n",
    "            image = image / 255.0\n",
    "            \n",
    "            label_index = (row.iloc[1:] == 1).idxmax() \n",
    "            numeric_index = list(row.index).index(label_index)\n",
    "            if(label_index == 'Unlabeled'):\n",
    "                continue\n",
    "            images.append(image)\n",
    "            label.append(numeric_index)\n",
    "        except: \n",
    "            continue\n",
    "    converted_data = tf.data.Dataset.from_tensor_slices((images, label)).batch(16)\n",
    "    return converted_data\n"
   ]
  },
  {
   "cell_type": "code",
   "execution_count": 6,
   "metadata": {},
   "outputs": [
    {
     "name": "stderr",
     "output_type": "stream",
     "text": [
      "[ WARN:0@7.272] global loadsave.cpp:248 findDecoder imread_('./Dataset/test/canvas_1629911700_jpg.rf.54685d79d3d987dec59c9d82a03ea21a.jpg'): can't open/read file: check file path/integrity\n",
      "[ WARN:0@7.274] global loadsave.cpp:248 findDecoder imread_('./Dataset/test/canvas_1629903174_jpg.rf.569f4025a4d51a1f780b2f7dae31c051.jpg'): can't open/read file: check file path/integrity\n",
      "[ WARN:0@7.280] global loadsave.cpp:248 findDecoder imread_('./Dataset/test/canvas_1629911897_jpg.rf.5873c86fa1d18181d0269e3447bbcc88.jpg'): can't open/read file: check file path/integrity\n",
      "[ WARN:0@7.286] global loadsave.cpp:248 findDecoder imread_('./Dataset/test/canvas_1629924022_jpg.rf.5b18df277f0f4a227c5d7de2cb5b87b7.jpg'): can't open/read file: check file path/integrity\n",
      "[ WARN:0@7.287] global loadsave.cpp:248 findDecoder imread_('./Dataset/test/canvas_1629999768_jpg.rf.5c66dec94db9153bcf386ee0ed29248a.jpg'): can't open/read file: check file path/integrity\n",
      "[ WARN:0@7.292] global loadsave.cpp:248 findDecoder imread_('./Dataset/test/canvas_1630008970_jpg.rf.5c5ec8614c6c3e6a795d9cbe75b9d7a3.jpg'): can't open/read file: check file path/integrity\n",
      "[ WARN:0@7.295] global loadsave.cpp:248 findDecoder imread_('./Dataset/test/canvas_1629909322_jpg.rf.563a3bcbb21ec036e6fe49884b889262.jpg'): can't open/read file: check file path/integrity\n",
      "[ WARN:0@7.297] global loadsave.cpp:248 findDecoder imread_('./Dataset/test/canvas_1629906438_jpg.rf.5ed5da51b40420fa25295ddeced82340.jpg'): can't open/read file: check file path/integrity\n",
      "[ WARN:0@7.308] global loadsave.cpp:248 findDecoder imread_('./Dataset/test/canvas_1629955211_jpg.rf.6258b97fad9e1e39c2777645f3c8216b.jpg'): can't open/read file: check file path/integrity\n",
      "[ WARN:0@7.309] global loadsave.cpp:248 findDecoder imread_('./Dataset/test/canvas_1630067828_jpg.rf.691f5b0fbe9259c92b4b94c52547366e.jpg'): can't open/read file: check file path/integrity\n",
      "[ WARN:0@7.313] global loadsave.cpp:248 findDecoder imread_('./Dataset/test/canvas_1629923682_jpg.rf.69a26580ac325bf87fc0dcdcc556620b.jpg'): can't open/read file: check file path/integrity\n",
      "[ WARN:0@7.313] global loadsave.cpp:248 findDecoder imread_('./Dataset/test/canvas_1630047151_jpg.rf.6747c79699cb80fdb5cecd3e0cf8955b.jpg'): can't open/read file: check file path/integrity\n",
      "[ WARN:0@7.315] global loadsave.cpp:248 findDecoder imread_('./Dataset/test/canvas_1629948712_jpg.rf.6b10ecbfd1a0e83f9444b42d46d5fb8f.jpg'): can't open/read file: check file path/integrity\n",
      "[ WARN:0@7.317] global loadsave.cpp:248 findDecoder imread_('./Dataset/test/canvas_1630048773_jpg.rf.6a87e411b93a530bc54fe4464825b62d.jpg'): can't open/read file: check file path/integrity\n",
      "[ WARN:0@7.334] global loadsave.cpp:248 findDecoder imread_('./Dataset/test/canvas_1629942217_jpg.rf.6fa957f4e2a237d46d42fa7f4e1bf2f6.jpg'): can't open/read file: check file path/integrity\n",
      "[ WARN:0@7.339] global loadsave.cpp:248 findDecoder imread_('./Dataset/test/canvas_1629920917_jpg.rf.72912ce71c86bbe15b40a0885c288644.jpg'): can't open/read file: check file path/integrity\n",
      "[ WARN:0@7.339] global loadsave.cpp:248 findDecoder imread_('./Dataset/test/canvas_1630058119_jpg.rf.70619b6588c18c618fc377e767c75db6.jpg'): can't open/read file: check file path/integrity\n",
      "[ WARN:0@7.344] global loadsave.cpp:248 findDecoder imread_('./Dataset/test/canvas_1629974359_jpg.rf.78b5f520fcf2e9f9719529c48e71a092.jpg'): can't open/read file: check file path/integrity\n",
      "[ WARN:0@7.350] global loadsave.cpp:248 findDecoder imread_('./Dataset/test/canvas_1629954494_jpg.rf.79b133130fc432f77a2c37b772a58b22.jpg'): can't open/read file: check file path/integrity\n",
      "[ WARN:0@7.351] global loadsave.cpp:248 findDecoder imread_('./Dataset/test/canvas_1629865805_jpg.rf.784cc6965bf8e81f37b5f3624c5fc557.jpg'): can't open/read file: check file path/integrity\n",
      "[ WARN:0@7.360] global loadsave.cpp:248 findDecoder imread_('./Dataset/test/canvas_1629862162_jpg.rf.7c7a004834eec0a4a7dd2df0e4781d2b.jpg'): can't open/read file: check file path/integrity\n",
      "[ WARN:0@7.363] global loadsave.cpp:248 findDecoder imread_('./Dataset/test/canvas_1629900420_jpg.rf.7b653a2cd600cd010fba35ce437b8251.jpg'): can't open/read file: check file path/integrity\n",
      "[ WARN:0@7.374] global loadsave.cpp:248 findDecoder imread_('./Dataset/test/canvas_1630008866_jpg.rf.7c9db523a230d16c9ec153129cece8fb.jpg'): can't open/read file: check file path/integrity\n",
      "[ WARN:0@7.375] global loadsave.cpp:248 findDecoder imread_('./Dataset/test/canvas_1629963433_jpg.rf.7ea5c2fb4f41b9754da73ae903336407.jpg'): can't open/read file: check file path/integrity\n",
      "[ WARN:0@7.376] global loadsave.cpp:248 findDecoder imread_('./Dataset/test/canvas_1630066161_jpg.rf.7b4415a0e82a8ce5d3ed0e3a7ac74c07.jpg'): can't open/read file: check file path/integrity\n",
      "[ WARN:0@7.376] global loadsave.cpp:248 findDecoder imread_('./Dataset/test/canvas_1630023649_jpg.rf.7f70e3617e136f0b45cec0dfad6335b4.jpg'): can't open/read file: check file path/integrity\n",
      "[ WARN:0@7.378] global loadsave.cpp:248 findDecoder imread_('./Dataset/test/canvas_1630013612_jpg.rf.82e33c7056420ac85127b6b21dda4d87.jpg'): can't open/read file: check file path/integrity\n",
      "[ WARN:0@7.393] global loadsave.cpp:248 findDecoder imread_('./Dataset/test/canvas_1630058769_jpg.rf.7f85d882f82eb65ceb95c8b5652c7bbb.jpg'): can't open/read file: check file path/integrity\n",
      "[ WARN:0@7.397] global loadsave.cpp:248 findDecoder imread_('./Dataset/test/canvas_1629862502_jpg.rf.8576dafadead4dd60f74eb9369ebc170.jpg'): can't open/read file: check file path/integrity\n",
      "[ WARN:0@7.407] global loadsave.cpp:248 findDecoder imread_('./Dataset/test/canvas_1630052224_jpg.rf.86bf98d7aa0b5d5489e7a65da9c087a6.jpg'): can't open/read file: check file path/integrity\n",
      "[ WARN:0@7.410] global loadsave.cpp:248 findDecoder imread_('./Dataset/test/canvas_1629956089_jpg.rf.7f9c478403877e0bd633c5b92556fb60.jpg'): can't open/read file: check file path/integrity\n",
      "[ WARN:0@7.425] global loadsave.cpp:248 findDecoder imread_('./Dataset/test/canvas_1630045657_jpg.rf.9792dec79144c5648340128f48f66311.jpg'): can't open/read file: check file path/integrity\n",
      "[ WARN:0@7.437] global loadsave.cpp:248 findDecoder imread_('./Dataset/test/canvas_1629963982_jpg.rf.9c223e28126afb97a0cc79dee0309ed5.jpg'): can't open/read file: check file path/integrity\n",
      "[ WARN:0@7.440] global loadsave.cpp:248 findDecoder imread_('./Dataset/test/canvas_1630031013_jpg.rf.9d8ae1fb9c43cb18b803178d2f7f7027.jpg'): can't open/read file: check file path/integrity\n",
      "[ WARN:0@7.441] global loadsave.cpp:248 findDecoder imread_('./Dataset/test/canvas_1629905180_jpg.rf.9c48ff9f900e3a9540105977627af50b.jpg'): can't open/read file: check file path/integrity\n",
      "[ WARN:0@7.458] global loadsave.cpp:248 findDecoder imread_('./Dataset/test/canvas_1629935407_jpg.rf.a2d5946851ce8114ee233c3a160ae876.jpg'): can't open/read file: check file path/integrity\n",
      "[ WARN:0@7.487] global loadsave.cpp:248 findDecoder imread_('./Dataset/test/canvas_1629861863_jpg.rf.a84018ca5cbcf5e646eb64f5458022fe.jpg'): can't open/read file: check file path/integrity\n",
      "[ WARN:0@7.564] global loadsave.cpp:248 findDecoder imread_('./Dataset/test/canvas_1630062718_jpg.rf.af5f4755c055823e110f4b6d2cb4bd7e.jpg'): can't open/read file: check file path/integrity\n",
      "[ WARN:0@7.587] global loadsave.cpp:248 findDecoder imread_('./Dataset/test/canvas_1629962805_jpg.rf.b14733d91968e71154b72b3ad2ad2305.jpg'): can't open/read file: check file path/integrity\n",
      "[ WARN:0@7.597] global loadsave.cpp:248 findDecoder imread_('./Dataset/test/canvas_1629936657_jpg.rf.ad131be5839239bba44caec4de5e1638.jpg'): can't open/read file: check file path/integrity\n",
      "[ WARN:0@7.604] global loadsave.cpp:248 findDecoder imread_('./Dataset/test/canvas_1629936398_jpg.rf.b16f5ef503255e91564314ac41ba0d89.jpg'): can't open/read file: check file path/integrity\n",
      "[ WARN:0@7.636] global loadsave.cpp:248 findDecoder imread_('./Dataset/test/canvas_1630019831_jpg.rf.b7f1c03f7da18ce2ae4976f25962f651.jpg'): can't open/read file: check file path/integrity\n",
      "[ WARN:0@7.651] global loadsave.cpp:248 findDecoder imread_('./Dataset/test/canvas_1629913170_jpg.rf.b7d8426633c4746ad6cca65e117e8647.jpg'): can't open/read file: check file path/integrity\n",
      "[ WARN:0@7.702] global loadsave.cpp:248 findDecoder imread_('./Dataset/test/canvas_1629938681_jpg.rf.bbe0a07bcd912f52df43f104e39dc269.jpg'): can't open/read file: check file path/integrity\n",
      "[ WARN:0@7.702] global loadsave.cpp:248 findDecoder imread_('./Dataset/test/canvas_1630022563_jpg.rf.bedc6d673bf8a58039c09fa61153cff1.jpg'): can't open/read file: check file path/integrity\n",
      "[ WARN:0@7.707] global loadsave.cpp:248 findDecoder imread_('./Dataset/test/canvas_1629970713_jpg.rf.beaf2e1513f0df31c6aa630474ea5f69.jpg'): can't open/read file: check file path/integrity\n",
      "[ WARN:0@7.717] global loadsave.cpp:248 findDecoder imread_('./Dataset/test/canvas_1630040656_jpg.rf.bc7bdc1a72d9431976530298c8639b7a.jpg'): can't open/read file: check file path/integrity\n",
      "[ WARN:0@7.724] global loadsave.cpp:248 findDecoder imread_('./Dataset/test/canvas_1630069480_jpg.rf.bf052d76547c565cdcdb85b682334e94.jpg'): can't open/read file: check file path/integrity\n",
      "[ WARN:0@7.737] global loadsave.cpp:248 findDecoder imread_('./Dataset/test/canvas_1629963731_jpg.rf.c2b5ff843a94d71173a8cece754eb40e.jpg'): can't open/read file: check file path/integrity\n",
      "[ WARN:0@7.739] global loadsave.cpp:248 findDecoder imread_('./Dataset/test/canvas_1630051888_jpg.rf.c3616edc56b715713e766ca58fc7307f.jpg'): can't open/read file: check file path/integrity\n",
      "[ WARN:0@7.751] global loadsave.cpp:248 findDecoder imread_('./Dataset/test/canvas_1629968479_jpg.rf.c468d089440f2bcdd1b1006eb58f557c.jpg'): can't open/read file: check file path/integrity\n",
      "[ WARN:0@7.789] global loadsave.cpp:248 findDecoder imread_('./Dataset/test/canvas_1630042944_jpg.rf.c73f2283b46fc0a08deab516ef41a876.jpg'): can't open/read file: check file path/integrity\n",
      "[ WARN:0@7.814] global loadsave.cpp:248 findDecoder imread_('./Dataset/test/canvas_1629959213_jpg.rf.c776514c9c259c9aca9525b2f76a147d.jpg'): can't open/read file: check file path/integrity\n",
      "[ WARN:0@7.831] global loadsave.cpp:248 findDecoder imread_('./Dataset/test/canvas_1630059683_jpg.rf.cb351e64f98c94122407a4eede0f38e7.jpg'): can't open/read file: check file path/integrity\n",
      "[ WARN:0@7.836] global loadsave.cpp:248 findDecoder imread_('./Dataset/test/canvas_1630004068_jpg.rf.cc0025a83ed0beea32b37a296ddf37bd.jpg'): can't open/read file: check file path/integrity\n",
      "[ WARN:0@7.841] global loadsave.cpp:248 findDecoder imread_('./Dataset/test/canvas_1629930770_jpg.rf.cd0b7d919a58d9212ec5596b85f8d6ba.jpg'): can't open/read file: check file path/integrity\n",
      "[ WARN:0@7.907] global loadsave.cpp:248 findDecoder imread_('./Dataset/test/canvas_1630023003_jpg.rf.cfbfead93d6e650e33f9251e0b20421a.jpg'): can't open/read file: check file path/integrity\n",
      "[ WARN:0@7.907] global loadsave.cpp:248 findDecoder imread_('./Dataset/test/canvas_1630051353_jpg.rf.d63eac41c60a2bff58544e674dad0b40.jpg'): can't open/read file: check file path/integrity\n",
      "[ WARN:0@7.907] global loadsave.cpp:248 findDecoder imread_('./Dataset/test/canvas_1629917896_jpg.rf.d70d83d1ff7c81e455dff883d916eba5.jpg'): can't open/read file: check file path/integrity\n",
      "[ WARN:0@7.922] global loadsave.cpp:248 findDecoder imread_('./Dataset/test/canvas_1629904818_jpg.rf.d7a5a378ddc1595d159a84adbd2ea74d.jpg'): can't open/read file: check file path/integrity\n",
      "[ WARN:0@7.924] global loadsave.cpp:248 findDecoder imread_('./Dataset/test/canvas_1629965250_jpg.rf.d88564d8c87fffd7563ac13e23a7caaa.jpg'): can't open/read file: check file path/integrity\n",
      "[ WARN:0@7.927] global loadsave.cpp:248 findDecoder imread_('./Dataset/test/canvas_1629913533_jpg.rf.d7a0630dca66cd206c21fd4661e2957c.jpg'): can't open/read file: check file path/integrity\n",
      "[ WARN:0@7.951] global loadsave.cpp:248 findDecoder imread_('./Dataset/test/canvas_1630044062_jpg.rf.daaad55a84174d052e4492be155e35de.jpg'): can't open/read file: check file path/integrity\n",
      "[ WARN:0@7.951] global loadsave.cpp:248 findDecoder imread_('./Dataset/test/canvas_1629965499_jpg.rf.dcebe2887ff8f222c2ce9a63827ccb63.jpg'): can't open/read file: check file path/integrity\n",
      "[ WARN:0@7.967] global loadsave.cpp:248 findDecoder imread_('./Dataset/test/canvas_1629905042_jpg.rf.e2c0c8adcef553410e678a07ab11f710.jpg'): can't open/read file: check file path/integrity\n",
      "[ WARN:0@8.011] global loadsave.cpp:248 findDecoder imread_('./Dataset/test/canvas_1630047578_jpg.rf.e07ba63e906a0fa41285244edeb9d7b3.jpg'): can't open/read file: check file path/integrity\n",
      "[ WARN:0@8.017] global loadsave.cpp:248 findDecoder imread_('./Dataset/test/canvas_1630031205_jpg.rf.e6c5788e282177135eeec4b38a3c50b9.jpg'): can't open/read file: check file path/integrity\n",
      "[ WARN:0@8.022] global loadsave.cpp:248 findDecoder imread_('./Dataset/test/canvas_1629994366_jpg.rf.e364dfed0d8bb8db5040efc983334727.jpg'): can't open/read file: check file path/integrity\n",
      "[ WARN:0@8.069] global loadsave.cpp:248 findDecoder imread_('./Dataset/test/canvas_1630056805_jpg.rf.e7fb8b40b5de445625b66d5b6a57ac7a.jpg'): can't open/read file: check file path/integrity\n",
      "[ WARN:0@8.079] global loadsave.cpp:248 findDecoder imread_('./Dataset/test/canvas_1629968166_jpg.rf.e217cb8fb7206eafda957c479bee72e6.jpg'): can't open/read file: check file path/integrity\n",
      "[ WARN:0@8.081] global loadsave.cpp:248 findDecoder imread_('./Dataset/test/canvas_1629957369_jpg.rf.eb4c3a02931c0820c31dbc6bc1bd49bb.jpg'): can't open/read file: check file path/integrity\n",
      "[ WARN:0@8.196] global loadsave.cpp:248 findDecoder imread_('./Dataset/test/canvas_1630051293_jpg.rf.f29d0dff1535e32673b196a103b3d04f.jpg'): can't open/read file: check file path/integrity\n",
      "[ WARN:0@8.201] global loadsave.cpp:248 findDecoder imread_('./Dataset/test/canvas_1629868242_jpg.rf.f43faa2b3dafa07380c17cc1f160b6b2.jpg'): can't open/read file: check file path/integrity\n",
      "[ WARN:0@8.215] global loadsave.cpp:248 findDecoder imread_('./Dataset/test/canvas_1630057696_jpg.rf.f0e02d99bf8b311a1fe9fc4944888aff.jpg'): can't open/read file: check file path/integrity\n",
      "[ WARN:0@8.245] global loadsave.cpp:248 findDecoder imread_('./Dataset/test/canvas_1630015755_jpg.rf.f5805817d1718e06f23320c042c66a5c.jpg'): can't open/read file: check file path/integrity\n",
      "[ WARN:0@8.250] global loadsave.cpp:248 findDecoder imread_('./Dataset/test/canvas_1629866192_jpg.rf.f9652f7000a916f059d45093dc992d43.jpg'): can't open/read file: check file path/integrity\n",
      "[ WARN:0@8.257] global loadsave.cpp:248 findDecoder imread_('./Dataset/test/canvas_1629861929_jpg.rf.fc3dd3eb620b2a615f79db3866f3e2ec.jpg'): can't open/read file: check file path/integrity\n",
      "[ WARN:0@8.261] global loadsave.cpp:248 findDecoder imread_('./Dataset/test/canvas_1630061576_jpg.rf.ff607430aa8e2b4eb7a0aed936e191ae.jpg'): can't open/read file: check file path/integrity\n",
      "[ WARN:0@8.270] global loadsave.cpp:248 findDecoder imread_('./Dataset/test/canvas_1630005561_jpg.rf.ff3763253253c9643ec4524691389ba2.jpg'): can't open/read file: check file path/integrity\n"
     ]
    }
   ],
   "source": [
    "\n",
    "train_dataset_tf = preprocess_dataset(train_folder)\n",
    "test_dataset_tf = preprocess_dataset(test_folder)\n",
    "valid_dataset_tf = preprocess_dataset(valid_folder)"
   ]
  },
  {
   "cell_type": "code",
   "execution_count": 37,
   "metadata": {},
   "outputs": [
    {
     "name": "stdout",
     "output_type": "stream",
     "text": [
      "Model: \"model_3\"\n",
      "_________________________________________________________________\n",
      " Layer (type)                Output Shape              Param #   \n",
      "=================================================================\n",
      " input_5 (InputLayer)        [(None, 224, 224, 3)]     0         \n",
      "                                                                 \n",
      " conv2d_15 (Conv2D)          (None, 54, 54, 96)        34944     \n",
      "                                                                 \n",
      " batch_normalization_6 (Bat  (None, 54, 54, 96)        384       \n",
      " chNormalization)                                                \n",
      "                                                                 \n",
      " max_pooling2d_9 (MaxPoolin  (None, 26, 26, 96)        0         \n",
      " g2D)                                                            \n",
      "                                                                 \n",
      " conv2d_16 (Conv2D)          (None, 22, 22, 256)       614656    \n",
      "                                                                 \n",
      " batch_normalization_7 (Bat  (None, 22, 22, 256)       1024      \n",
      " chNormalization)                                                \n",
      "                                                                 \n",
      " max_pooling2d_10 (MaxPooli  (None, 10, 10, 256)       0         \n",
      " ng2D)                                                           \n",
      "                                                                 \n",
      " conv2d_17 (Conv2D)          (None, 8, 8, 384)         885120    \n",
      "                                                                 \n",
      " conv2d_18 (Conv2D)          (None, 6, 6, 384)         1327488   \n",
      "                                                                 \n",
      " conv2d_19 (Conv2D)          (None, 4, 4, 256)         884992    \n",
      "                                                                 \n",
      " max_pooling2d_11 (MaxPooli  (None, 1, 1, 256)         0         \n",
      " ng2D)                                                           \n",
      "                                                                 \n",
      " flatten_3 (Flatten)         (None, 256)               0         \n",
      "                                                                 \n",
      " dense_9 (Dense)             (None, 4096)              1052672   \n",
      "                                                                 \n",
      " dropout_6 (Dropout)         (None, 4096)              0         \n",
      "                                                                 \n",
      " dense_10 (Dense)            (None, 4096)              16781312  \n",
      "                                                                 \n",
      " dropout_7 (Dropout)         (None, 4096)              0         \n",
      "                                                                 \n",
      " dense_11 (Dense)            (None, 7)                 28679     \n",
      "                                                                 \n",
      "=================================================================\n",
      "Total params: 21611271 (82.44 MB)\n",
      "Trainable params: 21610567 (82.44 MB)\n",
      "Non-trainable params: 704 (2.75 KB)\n",
      "_________________________________________________________________\n"
     ]
    }
   ],
   "source": [
    "\n",
    "\n",
    "def AlexNet():\n",
    "  inp = layers.Input((224, 224, 3)) #  Input layer of size (224x224) with 3 color channels\n",
    "  x = layers.Conv2D(filters=96, kernel_size=(11,11), strides=(4,4), activation='relu')(inp) # \n",
    "  x = layers.BatchNormalization()(x)\n",
    "  x = layers.MaxPooling2D(3, 2)(x)\n",
    "  x = layers.Conv2D(256, 5, 1, activation='relu')(x)\n",
    "  x = layers.BatchNormalization()(x)\n",
    "  x = layers.MaxPooling2D(3, 2)(x)\n",
    "  x = layers.Conv2D(384, 3, 1, activation='relu')(x)\n",
    "  x = layers.Conv2D(384, 3, 1, activation='relu')(x)\n",
    "  x = layers.Conv2D(256, 3, 1, activation='relu')(x)\n",
    "  x = layers.MaxPooling2D(3, 2)(x)\n",
    "  x = layers.Flatten()(x)\n",
    "  x = layers.Dense(4096, activation='relu')(x)\n",
    "  x = layers.Dropout(0.5)(x)\n",
    "  x = layers.Dense(4096, activation='relu')(x)\n",
    "  x = layers.Dropout(0.5)(x)\n",
    "  x = layers.Dense(7, activation='softmax')(x)\n",
    "\n",
    "  model = Model(inputs=inp, outputs=x)\n",
    "\n",
    "  return model\n",
    "\n",
    "model = AlexNet()\n",
    "model.summary()"
   ]
  },
  {
   "cell_type": "code",
   "execution_count": 38,
   "metadata": {},
   "outputs": [],
   "source": [
    "\n",
    "import tensorflow.keras as keras\n",
    "\n",
    "optimizer = keras.optimizers.legacy.Adam(learning_rate=0.0001)\n",
    "\n",
    "model.compile(optimizer=optimizer,\n",
    "              loss=\"sparse_categorical_crossentropy\", metrics=['accuracy'])"
   ]
  },
  {
   "cell_type": "code",
   "execution_count": 32,
   "metadata": {},
   "outputs": [],
   "source": [
    "from tensorflow.keras.callbacks import EarlyStopping\n",
    "# es = EarlyStopping(patience=5, \n",
    "#                    monitor='loss')\n",
    "es = ReduceLROnPlateau(monitor='val_loss', patience = 5, verbose=1,factor=0.5, min_lr=0.00001)\n"
   ]
  },
  {
   "cell_type": "code",
   "execution_count": 39,
   "metadata": {},
   "outputs": [
    {
     "name": "stdout",
     "output_type": "stream",
     "text": [
      "Epoch 1/10\n"
     ]
    },
    {
     "name": "stdout",
     "output_type": "stream",
     "text": [
      "384/384 [==============================] - 94s 244ms/step - loss: 1.7735 - accuracy: 0.2270 - val_loss: 1.7540 - val_accuracy: 0.2698 - lr: 1.0000e-04\n",
      "Epoch 2/10\n",
      "384/384 [==============================] - 109s 283ms/step - loss: 1.6788 - accuracy: 0.2950 - val_loss: 1.6285 - val_accuracy: 0.3474 - lr: 1.0000e-04\n",
      "Epoch 3/10\n",
      "384/384 [==============================] - 105s 272ms/step - loss: 1.5871 - accuracy: 0.3464 - val_loss: 1.6759 - val_accuracy: 0.3210 - lr: 1.0000e-04\n",
      "Epoch 4/10\n",
      "384/384 [==============================] - 96s 251ms/step - loss: 1.4749 - accuracy: 0.4090 - val_loss: 1.6543 - val_accuracy: 0.2990 - lr: 1.0000e-04\n",
      "Epoch 5/10\n",
      "384/384 [==============================] - 104s 271ms/step - loss: 1.3749 - accuracy: 0.4559 - val_loss: 1.6305 - val_accuracy: 0.3373 - lr: 1.0000e-04\n",
      "Epoch 6/10\n",
      "384/384 [==============================] - 98s 255ms/step - loss: 1.2525 - accuracy: 0.5147 - val_loss: 1.5995 - val_accuracy: 0.3581 - lr: 1.0000e-04\n",
      "Epoch 7/10\n",
      "384/384 [==============================] - 113s 294ms/step - loss: 1.1146 - accuracy: 0.5748 - val_loss: 1.6141 - val_accuracy: 0.3963 - lr: 1.0000e-04\n",
      "Epoch 8/10\n",
      "384/384 [==============================] - 102s 264ms/step - loss: 0.9562 - accuracy: 0.6397 - val_loss: 1.7129 - val_accuracy: 0.3345 - lr: 1.0000e-04\n",
      "Epoch 9/10\n",
      "384/384 [==============================] - 111s 288ms/step - loss: 0.7765 - accuracy: 0.7106 - val_loss: 2.3627 - val_accuracy: 0.3794 - lr: 1.0000e-04\n",
      "Epoch 10/10\n",
      "384/384 [==============================] - 116s 303ms/step - loss: 0.6332 - accuracy: 0.7643 - val_loss: 2.0397 - val_accuracy: 0.4025 - lr: 1.0000e-04\n"
     ]
    },
    {
     "data": {
      "text/plain": [
       "<keras.src.callbacks.History at 0x108984cd0>"
      ]
     },
     "execution_count": 39,
     "metadata": {},
     "output_type": "execute_result"
    }
   ],
   "source": [
    "model.fit(train_dataset_tf, epochs=10, validation_data=valid_dataset_tf,\n",
    "          callbacks=[es], batch_size=32)"
   ]
  },
  {
   "cell_type": "code",
   "execution_count": 40,
   "metadata": {},
   "outputs": [
    {
     "name": "stderr",
     "output_type": "stream",
     "text": [
      "/Users/eldrian/Library/Python/3.9/lib/python/site-packages/keras/src/engine/training.py:3103: UserWarning: You are saving your model as an HDF5 file via `model.save()`. This file format is considered legacy. We recommend using instead the native Keras format, e.g. `model.save('my_model.keras')`.\n",
      "  saving_api.save_model(\n"
     ]
    }
   ],
   "source": [
    "model.save('location_checker.h5')"
   ]
  },
  {
   "cell_type": "code",
   "execution_count": 41,
   "metadata": {},
   "outputs": [
    {
     "name": "stdout",
     "output_type": "stream",
     "text": [
      "Epoch 1/5\n",
      "384/384 [==============================] - 107s 277ms/step - loss: 0.5449 - accuracy: 0.8026 - val_loss: 2.2218 - val_accuracy: 0.3534 - lr: 1.0000e-04\n",
      "Epoch 2/5\n",
      "384/384 [==============================] - 103s 267ms/step - loss: 0.4252 - accuracy: 0.8503 - val_loss: 3.5446 - val_accuracy: 0.3129 - lr: 1.0000e-04\n",
      "Epoch 3/5\n",
      "384/384 [==============================] - 105s 274ms/step - loss: 0.3559 - accuracy: 0.8738 - val_loss: 2.8234 - val_accuracy: 0.3558 - lr: 1.0000e-04\n",
      "Epoch 4/5\n",
      "384/384 [==============================] - 107s 278ms/step - loss: 0.2966 - accuracy: 0.8919 - val_loss: 2.4865 - val_accuracy: 0.4074 - lr: 1.0000e-04\n",
      "Epoch 5/5\n",
      "384/384 [==============================] - 95s 247ms/step - loss: 0.2344 - accuracy: 0.9199 - val_loss: 3.6344 - val_accuracy: 0.3166 - lr: 1.0000e-04\n"
     ]
    },
    {
     "data": {
      "text/plain": [
       "<keras.src.callbacks.History at 0x10810c100>"
      ]
     },
     "execution_count": 41,
     "metadata": {},
     "output_type": "execute_result"
    }
   ],
   "source": [
    "# Testing\n",
    "model.fit(train_dataset_tf, epochs=5, validation_data=test_dataset_tf,\n",
    "          callbacks=[es], batch_size=32)\n"
   ]
  },
  {
   "cell_type": "code",
   "execution_count": 8,
   "metadata": {},
   "outputs": [
    {
     "name": "stdout",
     "output_type": "stream",
     "text": [
      "51/51 [==============================] - 3s 60ms/step - loss: 2.0375 - accuracy: 0.3939\n",
      "Test Loss: 2.037536382675171\n",
      "Test Accuracy: 0.39386501908302307\n"
     ]
    }
   ],
   "source": [
    "from tensorflow.keras.models import load_model\n",
    "\n",
    "model = load_model('location_checker.h5')\n",
    "\n",
    "test_loss, test_accuracy = model.evaluate(test_dataset_tf)\n",
    "\n",
    "print(f\"Test Loss: {test_loss}\")\n",
    "print(f\"Test Accuracy: {test_accuracy}\")"
   ]
  }
 ],
 "metadata": {
  "kernelspec": {
   "display_name": "Python 3",
   "language": "python",
   "name": "python3"
  },
  "language_info": {
   "codemirror_mode": {
    "name": "ipython",
    "version": 3
   },
   "file_extension": ".py",
   "mimetype": "text/x-python",
   "name": "python",
   "nbconvert_exporter": "python",
   "pygments_lexer": "ipython3",
   "version": "3.9.6"
  }
 },
 "nbformat": 4,
 "nbformat_minor": 2
}
